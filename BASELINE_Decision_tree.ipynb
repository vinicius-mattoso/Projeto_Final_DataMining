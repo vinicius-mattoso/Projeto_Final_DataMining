{
  "cells": [
    {
      "cell_type": "markdown",
      "metadata": {
        "id": "view-in-github",
        "colab_type": "text"
      },
      "source": [
        "<a href=\"https://colab.research.google.com/github/vinicius-mattoso/Projeto_Final_DataMining/blob/main/BASELINE_Decision_tree.ipynb\" target=\"_parent\"><img src=\"https://colab.research.google.com/assets/colab-badge.svg\" alt=\"Open In Colab\"/></a>"
      ]
    },
    {
      "cell_type": "code",
      "execution_count": null,
      "metadata": {
        "colab": {
          "base_uri": "https://localhost:8080/"
        },
        "id": "SjWCvcJctPkm",
        "outputId": "bd1354b9-e04d-4912-b887-80a70dcc3236"
      },
      "outputs": [
        {
          "output_type": "stream",
          "name": "stdout",
          "text": [
            "Mounted at /content/drive\n"
          ]
        }
      ],
      "source": [
        "# Montar o drive\n",
        "from google.colab import drive\n",
        "drive.mount('/content/drive')"
      ]
    },
    {
      "cell_type": "code",
      "execution_count": null,
      "metadata": {
        "colab": {
          "base_uri": "https://localhost:8080/"
        },
        "id": "8CoaBmTquuPu",
        "outputId": "6dd8f02f-205d-4dbb-f1e1-cccad6fcfd4c"
      },
      "outputs": [
        {
          "output_type": "stream",
          "name": "stdout",
          "text": [
            "/content/drive/My Drive/GRUPO - 02 - BI Master/Projeto DM\n"
          ]
        }
      ],
      "source": [
        "# para fazer esse comando funcionar, precisar clicar com o botão direito e fazer\n",
        "# \"add a shourtcut to drive\"\n",
        "%cd /content/drive/My Drive/GRUPO - 02 - BI Master/Projeto DM"
      ]
    },
    {
      "cell_type": "code",
      "execution_count": null,
      "metadata": {
        "colab": {
          "base_uri": "https://localhost:8080/"
        },
        "id": "FiodX-15uwjk",
        "outputId": "c78b312b-e694-4aa3-da26-7571b75877a2"
      },
      "outputs": [
        {
          "output_type": "stream",
          "name": "stdout",
          "text": [
            " Analise_Exploratoria.ipynb\n",
            " BASE_LINE.ipynb\n",
            " Base_Rj_2019_1_FILTER1.csv\n",
            " Base_Rj_2019_1_FULL.csv\n",
            " Base_Rj_2019_1_FULL_V0.csv\n",
            "'Cópia de Projeto_Python_SIH_DG.ipynb'\n",
            "'Eduardo_Colunas 1 a 30.ipynb'\n",
            " Enconde_data_V1.ipynb\n",
            " ENSP_Dissertação_Santos_Andréia_Cristina.pdf\n",
            "'Fontes úteis.gdoc'\n",
            " IT_SIHSUS_1603.pdf\n",
            " rj_sih_sus_01_2015.csv\n",
            " tree.png\n",
            " Untitled0.ipynb\n",
            " ViniciciusM_feature_clean_SIH_DG.ipynb\n"
          ]
        }
      ],
      "source": [
        "!ls"
      ]
    },
    {
      "cell_type": "code",
      "execution_count": null,
      "metadata": {
        "id": "2jPTqLpbuyNI"
      },
      "outputs": [],
      "source": [
        "import pandas as pd\n",
        "df2=pd.read_csv('Base_Rj_2019_1_FILTER1.csv')"
      ]
    },
    {
      "cell_type": "code",
      "execution_count": null,
      "metadata": {
        "colab": {
          "base_uri": "https://localhost:8080/"
        },
        "id": "VRS006pxu2KA",
        "outputId": "b6376461-b50f-47e4-9e12-501d978e1c52"
      },
      "outputs": [
        {
          "output_type": "stream",
          "name": "stdout",
          "text": [
            "<class 'pandas.core.frame.DataFrame'>\n",
            "RangeIndex: 62412 entries, 0 to 62411\n",
            "Data columns (total 36 columns):\n",
            " #   Column        Non-Null Count  Dtype  \n",
            "---  ------        --------------  -----  \n",
            " 0   Unnamed: 0    62412 non-null  int64  \n",
            " 1   Unnamed: 0.1  62412 non-null  int64  \n",
            " 2   SEXO          62412 non-null  int64  \n",
            " 3   UTI_MES_TO    62412 non-null  int64  \n",
            " 4   MARCA_UTI     62412 non-null  int64  \n",
            " 5   US_TOT        62412 non-null  float64\n",
            " 6   DIAG_PRINC    62412 non-null  object \n",
            " 7   IDADE         62412 non-null  int64  \n",
            " 8   DIAS_PERM     62412 non-null  int64  \n",
            " 9   MORTE         62412 non-null  int64  \n",
            " 10  CAR_INT       62412 non-null  int64  \n",
            " 11  NUM_FILHOS    62412 non-null  int64  \n",
            " 12  CONTRACEP1    62412 non-null  int64  \n",
            " 13  CONTRACEP2    62412 non-null  int64  \n",
            " 14  COMPLEX       62412 non-null  int64  \n",
            " 15  RACA_COR      62412 non-null  int64  \n",
            " 16  VAL_SH_FED    62412 non-null  float64\n",
            " 17  VAL_SP_FED    62412 non-null  float64\n",
            " 18  VAL_SH_GES    62412 non-null  float64\n",
            " 19  VAL_SP_GES    62412 non-null  float64\n",
            " 20  VAL_UCI       62412 non-null  float64\n",
            " 21  MARCA_UCI     62412 non-null  int64  \n",
            " 22  DIAGSEC1      11676 non-null  object \n",
            " 23  DIAGSEC2      964 non-null    object \n",
            " 24  DIAGSEC3      408 non-null    object \n",
            " 25  DIAGSEC4      179 non-null    object \n",
            " 26  DIAGSEC5      79 non-null     object \n",
            " 27  DIAGSEC6      35 non-null     object \n",
            " 28  DIAGSEC7      14 non-null     object \n",
            " 29  TPDISEC1      62412 non-null  int64  \n",
            " 30  TPDISEC2      62412 non-null  int64  \n",
            " 31  TPDISEC3      62412 non-null  int64  \n",
            " 32  TPDISEC4      62412 non-null  int64  \n",
            " 33  TPDISEC5      62412 non-null  int64  \n",
            " 34  TPDISEC6      62412 non-null  int64  \n",
            " 35  TPDISEC7      62412 non-null  int64  \n",
            "dtypes: float64(6), int64(22), object(8)\n",
            "memory usage: 17.1+ MB\n"
          ]
        }
      ],
      "source": [
        "df2.info()"
      ]
    },
    {
      "cell_type": "code",
      "execution_count": null,
      "metadata": {
        "id": "vKYhkE-Ou_Ae"
      },
      "outputs": [],
      "source": [
        "df2=df2.drop(columns=['Unnamed: 0','Unnamed: 0.1','VAL_SH_GES','VAL_SP_GES'])\n",
        "\n",
        "# Convertendo para int as variaveis do tipo object\n",
        "df2['TPDISEC7']=df2['TPDISEC7'].astype(str).astype(int)\n",
        "df2['TPDISEC6']=df2['TPDISEC6'].astype(str).astype(int)\n",
        "df2['TPDISEC5']=df2['TPDISEC5'].astype(str).astype(int)\n",
        "df2['TPDISEC4']=df2['TPDISEC4'].astype(str).astype(int)\n",
        "df2['TPDISEC3']=df2['TPDISEC3'].astype(str).astype(int)\n",
        "df2['TPDISEC2']=df2['TPDISEC2'].astype(str).astype(int)\n",
        "df2['TPDISEC1']=df2['TPDISEC1'].astype(str).astype(int)\n",
        "from sklearn import preprocessing\n",
        "\n",
        "LABEL_ENCODING_DIAG1 = preprocessing.LabelEncoder()\n",
        "LABEL_ENCODING_DIAG2 = preprocessing.LabelEncoder()\n",
        "LABEL_ENCODING_DIAG3 = preprocessing.LabelEncoder()\n",
        "LABEL_ENCODING_DIAG4 = preprocessing.LabelEncoder()\n",
        "LABEL_ENCODING_DIAG5 = preprocessing.LabelEncoder()\n",
        "LABEL_ENCODING_DIAG6 = preprocessing.LabelEncoder()\n",
        "LABEL_ENCODING_DIAG7 = preprocessing.LabelEncoder()\n",
        "\n",
        "df2['DIAGSEC1']=LABEL_ENCODING_DIAG1.fit_transform(df2['DIAGSEC1'])\n",
        "df2['DIAGSEC2']=LABEL_ENCODING_DIAG2.fit_transform(df2['DIAGSEC2'])\n",
        "df2['DIAGSEC3']=LABEL_ENCODING_DIAG3.fit_transform(df2['DIAGSEC3'])\n",
        "df2['DIAGSEC4']=LABEL_ENCODING_DIAG4.fit_transform(df2['DIAGSEC4'])\n",
        "df2['DIAGSEC5']=LABEL_ENCODING_DIAG5.fit_transform(df2['DIAGSEC5'])\n",
        "df2['DIAGSEC6']=LABEL_ENCODING_DIAG6.fit_transform(df2['DIAGSEC6'])\n",
        "df2['DIAGSEC7']=LABEL_ENCODING_DIAG7.fit_transform(df2['DIAGSEC7'])\n",
        "\n",
        "LABEL_ENCODING_DIAG_PRINC = preprocessing.LabelEncoder()\n",
        "df2['DIAG_PRINC']=LABEL_ENCODING_DIAG_PRINC.fit_transform(df2['DIAG_PRINC'])"
      ]
    },
    {
      "cell_type": "code",
      "execution_count": null,
      "metadata": {
        "id": "y97R7-U3vPqg"
      },
      "outputs": [],
      "source": [
        "from sklearn.model_selection import train_test_split \n",
        "# Agora usaremos a função para fazer de fato a separação. Já faremos a separação em treino e teste e entrada e saída.\n",
        "X = df2.loc[:,df2.columns != 'MORTE']  # Entrada\n",
        "y = df2.MORTE    # Saída\n",
        "X_train, X_test, y_train, y_test = train_test_split(X, \n",
        "                                                    y, \n",
        "                                                    test_size=0.2, \n",
        "                                                    stratify=y)"
      ]
    },
    {
      "cell_type": "code",
      "execution_count": null,
      "metadata": {
        "id": "3zl_vwW4vokO"
      },
      "outputs": [],
      "source": [
        "# treinar modelo\n",
        "from sklearn.tree import DecisionTreeClassifier\n",
        "\n",
        "def train(X_train, y_train, seed):\n",
        "  model = DecisionTreeClassifier(random_state=seed) # tente mudar parâmetro para evitar overfitting\n",
        "  model.fit(X_train, y_train);\n",
        "  return model\n",
        "\n",
        "seed=200\n",
        "model = train(X_train, y_train, seed)"
      ]
    },
    {
      "cell_type": "code",
      "execution_count": null,
      "metadata": {
        "id": "IPDvnKROw-N7"
      },
      "outputs": [],
      "source": [
        "import seaborn as sns"
      ]
    },
    {
      "cell_type": "code",
      "execution_count": null,
      "metadata": {
        "id": "Liv5-Xzcvtn5"
      },
      "outputs": [],
      "source": [
        "import matplotlib.pyplot as plt\n",
        "\n",
        "# Visualização gráfica da árvore de decisão\n",
        "from sklearn.tree import plot_tree\n",
        "plt.subplots(figsize=(80, 40)) # Definir tamanho da imagem a ser gerada\n",
        "plot_tree(model, class_names=['VIVEU', 'MORREU'], feature_names=df2.columns,\n",
        "               filled=True, rounded=True); # plota a árvore\n",
        "\n",
        "plt.savefig('tree.png') # Salva a imagem"
      ]
    },
    {
      "cell_type": "code",
      "execution_count": null,
      "metadata": {
        "colab": {
          "base_uri": "https://localhost:8080/"
        },
        "id": "oxybRKkewTcF",
        "outputId": "3afa4dbe-32c9-469a-bba0-7cb63971bb4b"
      },
      "outputs": [
        {
          "data": {
            "text/plain": [
              "39"
            ]
          },
          "execution_count": 11,
          "metadata": {},
          "output_type": "execute_result"
        }
      ],
      "source": [
        "# profundidade da árvore\n",
        "model.get_depth()"
      ]
    },
    {
      "cell_type": "code",
      "execution_count": null,
      "metadata": {
        "colab": {
          "base_uri": "https://localhost:8080/",
          "height": 712
        },
        "id": "Jz2OrhDYww_u",
        "outputId": "aec3cb79-53de-423f-ab5b-5948e804613d"
      },
      "outputs": [
        {
          "output_type": "stream",
          "name": "stdout",
          "text": [
            "Resultados de Treino\n",
            "Acurácia:  0.9999399146788439\n",
            "Kappa:  0.9995271655970807\n",
            "F1:  0.9995594066676458\n"
          ]
        },
        {
          "output_type": "display_data",
          "data": {
            "text/plain": [
              "<Figure size 432x288 with 2 Axes>"
            ],
            "image/png": "[encoded data removed]"
          },
          "metadata": {
            "needs_background": "light"
          }
        },
        {
          "output_type": "stream",
          "name": "stdout",
          "text": [
            "Resultados de Teste\n",
            "Acurácia:  0.9157253865256749\n",
            "Kappa:  0.3388437924012013\n",
            "F1:  0.3840749414519906\n"
          ]
        },
        {
          "output_type": "display_data",
          "data": {
            "text/plain": [
              "<Figure size 432x288 with 2 Axes>"
            ],
            "image/png": "[encoded data removed]"
          },
          "metadata": {
            "needs_background": "light"
          }
        }
      ],
      "source": [
        "def predict_and_evaluate(model, X_test, y_test):\n",
        "\n",
        "  # inferência do teste\n",
        "  y_pred = model.predict(X_test) \n",
        "\n",
        "  # Acurácia\n",
        "  from sklearn.metrics import accuracy_score\n",
        "  accuracy = accuracy_score(y_test, y_pred)\n",
        "  print('Acurácia: ', accuracy)\n",
        "\n",
        "  # Kappa\n",
        "  from sklearn.metrics import cohen_kappa_score\n",
        "  kappa = cohen_kappa_score(y_test, y_pred)\n",
        "  print('Kappa: ', kappa)\n",
        "\n",
        "  # F1\n",
        "  from sklearn.metrics import f1_score\n",
        "  f1 = f1_score(y_test, y_pred)\n",
        "  print('F1: ', f1)\n",
        "\n",
        "  # Matriz de confusão\n",
        "  from sklearn.metrics import confusion_matrix\n",
        "  confMatrix = confusion_matrix(y_test, y_pred)\n",
        "\n",
        "  ax = plt.subplot()\n",
        "  sns.heatmap(confMatrix, annot=True, fmt=\".0f\")\n",
        "  plt.xlabel('Previsto')\n",
        "  plt.ylabel('Real')\n",
        "  plt.title('Matriz de Confusão')\n",
        "\n",
        "\n",
        "    # Colocar os nomes\n",
        "  ax.xaxis.set_ticklabels(['VIVEU', 'MORREU']) \n",
        "  ax.yaxis.set_ticklabels(['VIVEU', 'MORREU'])\n",
        "  plt.show()\n",
        "\n",
        "print('Resultados de Treino')\n",
        "predict_and_evaluate(model, X_train, y_train)\n",
        "print('Resultados de Teste')\n",
        "predict_and_evaluate(model, X_test, y_test)"
      ]
    },
    {
      "cell_type": "code",
      "execution_count": null,
      "metadata": {
        "colab": {
          "base_uri": "https://localhost:8080/"
        },
        "id": "IUO5vix0w2Nl",
        "outputId": "41e08d73-c44f-4bd1-8128-2b86cbdc00e9"
      },
      "outputs": [
        {
          "data": {
            "text/plain": [
              "12483"
            ]
          },
          "execution_count": 17,
          "metadata": {},
          "output_type": "execute_result"
        }
      ],
      "source": [
        "len(X_test)"
      ]
    },
    {
      "cell_type": "code",
      "execution_count": null,
      "metadata": {
        "id": "rHjtf_3Fxl-B"
      },
      "outputs": [],
      "source": [
        "resultado_errado=467+549"
      ]
    },
    {
      "cell_type": "code",
      "execution_count": null,
      "metadata": {
        "id": "9aT01unDxrqA"
      },
      "outputs": [],
      "source": [
        "error_percentual=(resultado_errado/len(X_test))*100"
      ]
    },
    {
      "cell_type": "code",
      "execution_count": null,
      "metadata": {
        "colab": {
          "base_uri": "https://localhost:8080/"
        },
        "id": "5u4uV0KDxyfs",
        "outputId": "198f17a0-fc48-445e-d1f2-e03de1ea73c4"
      },
      "outputs": [
        {
          "data": {
            "text/plain": [
              "8.13906913402227"
            ]
          },
          "execution_count": 20,
          "metadata": {},
          "output_type": "execute_result"
        }
      ],
      "source": [
        "error_percentual"
      ]
    },
    {
      "cell_type": "markdown",
      "metadata": {
        "id": "8g4ExfoDy15U"
      },
      "source": [
        "## Tec. de OverSampling\n"
      ]
    },
    {
      "cell_type": "code",
      "execution_count": null,
      "metadata": {
        "colab": {
          "base_uri": "https://localhost:8080/"
        },
        "id": "SFeYkkI4x0HD",
        "outputId": "20554630-efca-4b57-cc82-8fdbfbdfed48"
      },
      "outputs": [
        {
          "name": "stdout",
          "output_type": "stream",
          "text": [
            "Looking in indexes: https://pypi.org/simple, https://us-python.pkg.dev/colab-wheels/public/simple/\n",
            "Requirement already satisfied: imbalanced-learn in /usr/local/lib/python3.7/dist-packages (0.8.1)\n",
            "Requirement already satisfied: numpy>=1.13.3 in /usr/local/lib/python3.7/dist-packages (from imbalanced-learn) (1.21.6)\n",
            "Requirement already satisfied: joblib>=0.11 in /usr/local/lib/python3.7/dist-packages (from imbalanced-learn) (1.1.0)\n",
            "Requirement already satisfied: scipy>=0.19.1 in /usr/local/lib/python3.7/dist-packages (from imbalanced-learn) (1.4.1)\n",
            "Requirement already satisfied: scikit-learn>=0.24 in /usr/local/lib/python3.7/dist-packages (from imbalanced-learn) (1.0.2)\n",
            "Requirement already satisfied: threadpoolctl>=2.0.0 in /usr/local/lib/python3.7/dist-packages (from scikit-learn>=0.24->imbalanced-learn) (3.1.0)\n"
          ]
        }
      ],
      "source": [
        "!sudo pip install imbalanced-learn"
      ]
    },
    {
      "cell_type": "code",
      "execution_count": null,
      "metadata": {
        "colab": {
          "base_uri": "https://localhost:8080/"
        },
        "id": "CNHIeVN8y_Ae",
        "outputId": "06258146-fe56-4ee7-c4f5-b26d7ecb7de1"
      },
      "outputs": [
        {
          "name": "stdout",
          "output_type": "stream",
          "text": [
            "0.8.1\n"
          ]
        }
      ],
      "source": [
        "# check version number\n",
        "import imblearn\n",
        "print(imblearn.__version__)"
      ]
    },
    {
      "cell_type": "code",
      "execution_count": null,
      "metadata": {
        "id": "QxW5ZNwFzDJf"
      },
      "outputs": [],
      "source": [
        "# ESSE CASO IGUALA TODOS OS CASOS SUBINDO A MENOR CLASSE ATE A MARIO\n",
        "# define oversampling strategy\n",
        "# oversample = RandomOverSampler(sampling_strategy='minority')"
      ]
    },
    {
      "cell_type": "code",
      "execution_count": null,
      "metadata": {
        "id": "7jJUGo2dzM4k"
      },
      "outputs": [],
      "source": [
        "from imblearn.over_sampling import RandomOverSampler\n",
        "# define oversampling strategy\n",
        "oversample = RandomOverSampler(sampling_strategy=0.5)"
      ]
    },
    {
      "cell_type": "code",
      "execution_count": null,
      "metadata": {
        "id": "rqLxz-nVzcQ-"
      },
      "outputs": [],
      "source": [
        "# fit and apply the transform\n",
        "X_over, y_over = oversample.fit_resample(X, y)"
      ]
    },
    {
      "cell_type": "code",
      "execution_count": null,
      "metadata": {
        "colab": {
          "base_uri": "https://localhost:8080/"
        },
        "id": "JT3OmcvD0FIG",
        "outputId": "4caa865e-0e55-4451-e4d6-69b328edd749"
      },
      "outputs": [
        {
          "data": {
            "text/plain": [
              "29077"
            ]
          },
          "execution_count": 28,
          "metadata": {},
          "output_type": "execute_result"
        }
      ],
      "source": [
        "y_over.sum()"
      ]
    },
    {
      "cell_type": "code",
      "execution_count": null,
      "metadata": {
        "id": "Fq0ZJGxEz_0v"
      },
      "outputs": [],
      "source": [
        "MORTOS_NOVOS=y_over.sum()\n",
        "VIVOS_NOVOS=len(y_over)-MORTOS_NOVOS"
      ]
    },
    {
      "cell_type": "code",
      "execution_count": null,
      "metadata": {
        "colab": {
          "base_uri": "https://localhost:8080/",
          "height": 336
        },
        "id": "z8mJZOf2zqPT",
        "outputId": "f5f8da67-94d6-46c9-caf7-3cc97013f1d4"
      },
      "outputs": [
        {
          "data": {
            "image/png": "[encoded data removed]",
            "text/plain": [
              "<Figure size 432x288 with 1 Axes>"
            ]
          },
          "metadata": {},
          "output_type": "display_data"
        }
      ],
      "source": [
        "import matplotlib.pyplot as plt\n",
        "fig = plt.figure()\n",
        "ax = fig.add_axes([0,0,1,1])\n",
        "langs = ['MORTO', 'VIVO']\n",
        "students = [MORTOS_NOVOS,VIVOS_NOVOS]\n",
        "ax.bar(langs,students)\n",
        "plt.show()"
      ]
    },
    {
      "cell_type": "code",
      "execution_count": null,
      "metadata": {
        "id": "ciqu_UyI0ZIU"
      },
      "outputs": [],
      "source": [
        "X_train_2, X_test_2, y_train_2, y_test_2 = train_test_split(X_over, \n",
        "                                                    y_over, \n",
        "                                                    test_size=0.2, \n",
        "                                                    stratify=y_over)"
      ]
    },
    {
      "cell_type": "code",
      "execution_count": null,
      "metadata": {
        "id": "3NlEuw1Q0qlK"
      },
      "outputs": [],
      "source": [
        "def train_2(X_train, y_train, seed):\n",
        "  model_2 = DecisionTreeClassifier(random_state=seed) # tente mudar parâmetro para evitar overfitting\n",
        "  model_2.fit(X_train_2, y_train_2);\n",
        "  return model\n",
        "\n",
        "seed=200\n",
        "model_2 = train(X_train_2, y_train_2, seed)"
      ]
    },
    {
      "cell_type": "code",
      "execution_count": null,
      "metadata": {
        "colab": {
          "base_uri": "https://localhost:8080/"
        },
        "id": "ynLRTGZ700Oh",
        "outputId": "7f3bf99f-32d6-45c0-916f-10d615106f29"
      },
      "outputs": [
        {
          "data": {
            "text/plain": [
              "38"
            ]
          },
          "execution_count": 35,
          "metadata": {},
          "output_type": "execute_result"
        }
      ],
      "source": [
        "# profundidade da árvore\n",
        "model_2.get_depth()"
      ]
    },
    {
      "cell_type": "code",
      "execution_count": null,
      "metadata": {
        "colab": {
          "base_uri": "https://localhost:8080/",
          "height": 712
        },
        "id": "Io7BfmbN1BPb",
        "outputId": "c26d0d75-bc52-49d5-b6b0-d18e15891e66"
      },
      "outputs": [
        {
          "name": "stdout",
          "output_type": "stream",
          "text": [
            "Resultados de Treino\n",
            "Acurácia:  0.9569391703088056\n",
            "Kappa:  0.9008078514778018\n",
            "F1:  0.9322603187484502\n"
          ]
        },
        {
          "data": {
            "image/png": "[encoded data removed]",
            "text/plain": [
              "<Figure size 432x288 with 2 Axes>"
            ]
          },
          "metadata": {},
          "output_type": "display_data"
        },
        {
          "name": "stdout",
          "output_type": "stream",
          "text": [
            "Resultados de Teste\n",
            "Acurácia:  0.955637072276036\n",
            "Kappa:  0.897904415151324\n",
            "F1:  0.9303455723542117\n"
          ]
        },
        {
          "data": {
            "image/png": "[encoded data removed]",
            "text/plain": [
              "<Figure size 432x288 with 2 Axes>"
            ]
          },
          "metadata": {},
          "output_type": "display_data"
        }
      ],
      "source": [
        "def predict_and_evaluate(model, X_test, y_test):\n",
        "\n",
        "  # inferência do teste\n",
        "  y_pred = model.predict(X_test) \n",
        "\n",
        "  # Acurácia\n",
        "  from sklearn.metrics import accuracy_score\n",
        "  accuracy = accuracy_score(y_test, y_pred)\n",
        "  print('Acurácia: ', accuracy)\n",
        "\n",
        "  # Kappa\n",
        "  from sklearn.metrics import cohen_kappa_score\n",
        "  kappa = cohen_kappa_score(y_test, y_pred)\n",
        "  print('Kappa: ', kappa)\n",
        "\n",
        "  # F1\n",
        "  from sklearn.metrics import f1_score\n",
        "  f1 = f1_score(y_test, y_pred)\n",
        "  print('F1: ', f1)\n",
        "\n",
        "  # Matriz de confusão\n",
        "  from sklearn.metrics import confusion_matrix\n",
        "  confMatrix = confusion_matrix(y_test, y_pred)\n",
        "\n",
        "  ax = plt.subplot()\n",
        "  sns.heatmap(confMatrix, annot=True, fmt=\".0f\")\n",
        "  plt.xlabel('Previsto')\n",
        "  plt.ylabel('Real')\n",
        "  plt.title('Matriz de Confusão')\n",
        "\n",
        "\n",
        "    # Colocar os nomes\n",
        "  ax.xaxis.set_ticklabels(['VIVEU', 'MORREU']) \n",
        "  ax.yaxis.set_ticklabels(['VIVEU', 'MORREU'])\n",
        "  plt.show()\n",
        "\n",
        "# CHAMANDO A FUNCAO CRIADA EM CIMA\n",
        "\n",
        "print('Resultados de Treino')\n",
        "predict_and_evaluate(model_2, X_train_2, y_train_2)\n",
        "print('Resultados de Teste')\n",
        "predict_and_evaluate(model_2, X_test_2, y_test_2)"
      ]
    },
    {
      "cell_type": "code",
      "execution_count": null,
      "metadata": {
        "colab": {
          "base_uri": "https://localhost:8080/"
        },
        "id": "NZL5-G0K1J30",
        "outputId": "4891434d-9df7-47a6-e96a-ade97befae05"
      },
      "outputs": [
        {
          "data": {
            "text/plain": [
              "17447"
            ]
          },
          "execution_count": 37,
          "metadata": {},
          "output_type": "execute_result"
        }
      ],
      "source": [
        "len(X_test_2)"
      ]
    },
    {
      "cell_type": "code",
      "execution_count": null,
      "metadata": {
        "id": "duZ45azY1X77"
      },
      "outputs": [],
      "source": [
        "resultado_errado=647+127"
      ]
    },
    {
      "cell_type": "code",
      "execution_count": null,
      "metadata": {
        "colab": {
          "base_uri": "https://localhost:8080/"
        },
        "id": "yZmXOXkM1a7-",
        "outputId": "4031ebce-f184-415b-f975-0bb66201c7e4"
      },
      "outputs": [
        {
          "data": {
            "text/plain": [
              "4.4362927723964"
            ]
          },
          "execution_count": 39,
          "metadata": {},
          "output_type": "execute_result"
        }
      ],
      "source": [
        "error_percentual=(resultado_errado/len(X_test))*100\n",
        "error_percentual"
      ]
    },
    {
      "cell_type": "code",
      "execution_count": null,
      "metadata": {
        "id": "7XwyaCTI11oZ"
      },
      "outputs": [],
      "source": [
        "from xgboost import XGBClassifier\n",
        "from sklearn.model_selection import cross_val_score\n",
        "from sklearn.model_selection import RepeatedStratifiedKFold"
      ]
    },
    {
      "cell_type": "code",
      "execution_count": null,
      "metadata": {
        "id": "6AxJ0rys2ufq"
      },
      "outputs": [],
      "source": [
        "# model_XGB = XGBClassifier(use_label_encoder=False, eval_metric='mlogloss')\n",
        "# define model\n",
        "model_XGB = XGBClassifier()"
      ]
    },
    {
      "cell_type": "code",
      "execution_count": null,
      "metadata": {
        "colab": {
          "base_uri": "https://localhost:8080/"
        },
        "id": "uKOQlpeU6ZbO",
        "outputId": "bd9765d1-c738-4585-88a1-da03cf75b395"
      },
      "outputs": [
        {
          "output_type": "stream",
          "name": "stdout",
          "text": [
            "\n",
            "XGBClassifier()\n"
          ]
        }
      ],
      "source": [
        "model_XGB2 = XGBClassifier()\n",
        "model_XGB2.fit(X_train, y_train)\n",
        "print(); print(model_XGB2)"
      ]
    },
    {
      "cell_type": "code",
      "execution_count": null,
      "metadata": {
        "colab": {
          "base_uri": "https://localhost:8080/"
        },
        "id": "fRY7nDPC7NGw",
        "outputId": "9b5da031-f917-403e-8bc7-c862f188cd65"
      },
      "outputs": [
        {
          "output_type": "stream",
          "name": "stdout",
          "text": [
            "Start cross validation\n",
            "Best number of trees = 275\n",
            "Fit on the trainingsdata\n",
            "Overall AUC: 0.9730942690707072\n",
            "Predict the probabilities based on features in the test set\n"
          ]
        }
      ],
      "source": [
        "import xgboost as xgb\n",
        "from sklearn.metrics import roc_auc_score\n",
        "X_sel = X_train\n",
        "sel_test =X_test\n",
        "xgtrain = xgb.DMatrix(X_sel, label=y_train)\n",
        "clf = xgb.XGBClassifier(missing=9999999999,\n",
        "                max_depth = 7,\n",
        "                n_estimators=100,\n",
        "                learning_rate=0.1, \n",
        "                nthread=4,\n",
        "                subsample=1.0,\n",
        "                colsample_bytree=0.5,\n",
        "                min_child_weight = 3,\n",
        "                seed=1301)\n",
        "xgb_param = clf.get_xgb_params()\n",
        "#do cross validation\n",
        "print ('Start cross validation')\n",
        "cvresult = xgb.cv(xgb_param, xgtrain, num_boost_round=500, nfold=15, metrics=['auc'],\n",
        "     early_stopping_rounds=50, stratified=True, seed=1301)\n",
        "print('Best number of trees = {}'.format(cvresult.shape[0]))\n",
        "clf.set_params(n_estimators=cvresult.shape[0])\n",
        "print('Fit on the trainingsdata')\n",
        "clf.fit(X_sel, y_train, eval_metric='auc')\n",
        "print('Overall AUC:', roc_auc_score(y_train, clf.predict_proba(X_sel)[:,1]))\n",
        "print('Predict the probabilities based on features in the test set')\n",
        "pred = clf.predict_proba(sel_test, ntree_limit=cvresult.shape[0])\n",
        "\n",
        "# submission = pd.DataFrame({\"ID\":test.index, \"TARGET\":pred[:,1]})\n",
        "# submission.to_csv(\"submission.csv\", index=False)"
      ]
    },
    {
      "cell_type": "code",
      "execution_count": null,
      "metadata": {
        "colab": {
          "base_uri": "https://localhost:8080/"
        },
        "id": "6WhtURZZ6q4n",
        "outputId": "36d5eeeb-bb1d-45d1-c6f8-dbce94386d5e"
      },
      "outputs": [
        {
          "output_type": "stream",
          "name": "stdout",
          "text": [
            "              precision    recall  f1-score   support\n",
            "\n",
            "           0       0.96      0.99      0.97     11632\n",
            "           1       0.77      0.38      0.51       851\n",
            "\n",
            "    accuracy                           0.95     12483\n",
            "   macro avg       0.86      0.69      0.74     12483\n",
            "weighted avg       0.94      0.95      0.94     12483\n",
            "\n",
            "[[11534    98]\n",
            " [  527   324]]\n"
          ]
        }
      ],
      "source": [
        "from sklearn import metrics\n",
        "expected_y  = y_test\n",
        "predicted_y = clf.predict(X_test)\n",
        "\n",
        "print(metrics.classification_report(expected_y, predicted_y))\n",
        "print(metrics.confusion_matrix(expected_y, predicted_y))"
      ]
    },
    {
      "cell_type": "code",
      "execution_count": null,
      "metadata": {
        "id": "mId45SFk3nxc"
      },
      "outputs": [],
      "source": [
        "# define evaluation procedure\n",
        "cv = RepeatedStratifiedKFold(n_splits=10, n_repeats=3, random_state=1)"
      ]
    },
    {
      "cell_type": "code",
      "execution_count": null,
      "metadata": {
        "id": "_30Pdq7i3vOE"
      },
      "outputs": [],
      "source": [
        "# evaluate model\n",
        "scores = cross_val_score(clf, X_train, y_train, scoring='roc_auc', cv=cv, n_jobs=-1)"
      ]
    },
    {
      "cell_type": "code",
      "execution_count": null,
      "metadata": {
        "colab": {
          "base_uri": "https://localhost:8080/"
        },
        "id": "I4gPBjGD53jK",
        "outputId": "60ae2b88-83f6-4a53-fb8d-6047b24da65a"
      },
      "outputs": [
        {
          "name": "stdout",
          "output_type": "stream",
          "text": [
            "XGBClassifier()\n"
          ]
        }
      ],
      "source": [
        "print(model_XGB)"
      ]
    },
    {
      "cell_type": "code",
      "execution_count": null,
      "metadata": {
        "colab": {
          "base_uri": "https://localhost:8080/"
        },
        "id": "bj6hFbsw5I0G",
        "outputId": "c207460e-1542-47d4-ffe9-9d81d174b1e7"
      },
      "outputs": [
        {
          "output_type": "execute_result",
          "data": {
            "text/plain": [
              "0.944279633771493"
            ]
          },
          "metadata": {},
          "execution_count": 32
        }
      ],
      "source": [
        "scores.max()"
      ]
    },
    {
      "cell_type": "code",
      "execution_count": null,
      "metadata": {
        "colab": {
          "base_uri": "https://localhost:8080/"
        },
        "id": "pcXXZMOA4FNj",
        "outputId": "cb9e3d90-ad53-4811-ce10-106837006630"
      },
      "outputs": [
        {
          "name": "stdout",
          "output_type": "stream",
          "text": [
            "Mean ROC AUC: 0.91955\n"
          ]
        }
      ],
      "source": [
        "# fit xgboost on an imbalanced classification dataset\n",
        "from numpy import mean\n",
        "# summarize performance\n",
        "print('Mean ROC AUC: %.5f' % mean(scores))"
      ]
    },
    {
      "cell_type": "code",
      "execution_count": null,
      "metadata": {
        "colab": {
          "base_uri": "https://localhost:8080/"
        },
        "id": "oBm-hKh_24S0",
        "outputId": "721718c4-e5b0-46e7-8b4c-5808afede841"
      },
      "outputs": [
        {
          "data": {
            "text/plain": [
              "XGBClassifier()"
            ]
          },
          "execution_count": 53,
          "metadata": {},
          "output_type": "execute_result"
        }
      ],
      "source": [
        "model_XGB.fit(X_train, y_train)"
      ]
    },
    {
      "cell_type": "code",
      "execution_count": null,
      "metadata": {
        "colab": {
          "base_uri": "https://localhost:8080/",
          "height": 712
        },
        "id": "aseJqhNg29fg",
        "outputId": "9139ede9-6ad7-4ed9-a326-493fe31644f6"
      },
      "outputs": [
        {
          "output_type": "stream",
          "name": "stdout",
          "text": [
            "Resultados de Treino\n",
            "Acurácia:  0.9623064751947766\n",
            "Kappa:  0.6274711189192911\n",
            "F1:  0.6457078313253013\n"
          ]
        },
        {
          "output_type": "display_data",
          "data": {
            "text/plain": [
              "<Figure size 432x288 with 2 Axes>"
            ],
            "image/png": "[encoded data removed]"
          },
          "metadata": {
            "needs_background": "light"
          }
        },
        {
          "output_type": "stream",
          "name": "stdout",
          "text": [
            "Resultados de Teste\n",
            "Acurácia:  0.9499319073940559\n",
            "Kappa:  0.48579233045852677\n",
            "F1:  0.5090337784760408\n"
          ]
        },
        {
          "output_type": "display_data",
          "data": {
            "text/plain": [
              "<Figure size 432x288 with 2 Axes>"
            ],
            "image/png": "[encoded data removed]"
          },
          "metadata": {
            "needs_background": "light"
          }
        }
      ],
      "source": [
        "def predict_and_evaluate(model, X_test, y_test):\n",
        "\n",
        "  # inferência do teste\n",
        "  y_pred = model.predict(X_test) \n",
        "\n",
        "  # Acurácia\n",
        "  from sklearn.metrics import accuracy_score\n",
        "  accuracy = accuracy_score(y_test, y_pred)\n",
        "  print('Acurácia: ', accuracy)\n",
        "\n",
        "  # Kappa\n",
        "  from sklearn.metrics import cohen_kappa_score\n",
        "  kappa = cohen_kappa_score(y_test, y_pred)\n",
        "  print('Kappa: ', kappa)\n",
        "\n",
        "  # F1\n",
        "  from sklearn.metrics import f1_score\n",
        "  f1 = f1_score(y_test, y_pred)\n",
        "  print('F1: ', f1)\n",
        "\n",
        "  # Matriz de confusão\n",
        "  from sklearn.metrics import confusion_matrix\n",
        "  confMatrix = confusion_matrix(y_test, y_pred)\n",
        "\n",
        "  ax = plt.subplot()\n",
        "  sns.heatmap(confMatrix, annot=True, fmt=\".0f\")\n",
        "  plt.xlabel('Previsto')\n",
        "  plt.ylabel('Real')\n",
        "  plt.title('Matriz de Confusão')\n",
        "\n",
        "\n",
        "    # Colocar os nomes\n",
        "  ax.xaxis.set_ticklabels(['VIVEU', 'MORREU']) \n",
        "  ax.yaxis.set_ticklabels(['VIVEU', 'MORREU'])\n",
        "  plt.show()\n",
        "\n",
        "# CHAMANDO A FUNCAO CRIADA EM CIMA\n",
        "\n",
        "print('Resultados de Treino')\n",
        "predict_and_evaluate(clf, X_train, y_train)\n",
        "print('Resultados de Teste')\n",
        "predict_and_evaluate(clf, X_test, y_test)"
      ]
    },
    {
      "cell_type": "code",
      "execution_count": null,
      "metadata": {
        "id": "0g6pHbd83P00"
      },
      "outputs": [],
      "source": [
        "#  https://www.kaggle.com/code/prashant111/xgboost-k-fold-cv-feature-importance/notebook"
      ]
    }
  ],
  "metadata": {
    "colab": {
      "collapsed_sections": [],
      "name": "BASELINE_Decision_tree.ipynb",
      "provenance": [],
      "include_colab_link": true
    },
    "kernelspec": {
      "display_name": "Python 3",
      "name": "python3"
    },
    "language_info": {
      "name": "python"
    }
  },
  "nbformat": 4,
  "nbformat_minor": 0
}