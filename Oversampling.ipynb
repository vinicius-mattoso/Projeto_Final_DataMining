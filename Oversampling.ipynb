{
  "cells": [
    {
      "cell_type": "markdown",
      "metadata": {
        "id": "view-in-github",
        "colab_type": "text"
      },
      "source": [
        "<a href=\"https://colab.research.google.com/github/vinicius-mattoso/Projeto_Final_DataMining/blob/main/Oversampling.ipynb\" target=\"_parent\"><img src=\"https://colab.research.google.com/assets/colab-badge.svg\" alt=\"Open In Colab\"/></a>"
      ]
    },
    {
      "cell_type": "code",
      "execution_count": null,
      "metadata": {
        "colab": {
          "base_uri": "https://localhost:8080/"
        },
        "id": "1xKD5tCKjoOe",
        "outputId": "aff4e105-07c7-4fe9-d7ba-c99c0768ae2a"
      },
      "outputs": [
        {
          "output_type": "stream",
          "name": "stdout",
          "text": [
            "Mounted at /content/drive\n"
          ]
        }
      ],
      "source": [
        "# Montar o drive\n",
        "from google.colab import drive\n",
        "drive.mount('/content/drive')"
      ]
    },
    {
      "cell_type": "code",
      "execution_count": null,
      "metadata": {
        "colab": {
          "base_uri": "https://localhost:8080/"
        },
        "id": "ob58TSJUjwj5",
        "outputId": "cd49f764-ebf8-4a80-eb07-69a8a0be0cce"
      },
      "outputs": [
        {
          "output_type": "stream",
          "name": "stdout",
          "text": [
            "/content/drive/My Drive/GRUPO - 02 - BI Master/Projeto DM\n"
          ]
        }
      ],
      "source": [
        "# para fazer esse comando funcionar, precisar clicar com o botão direito e fazer\n",
        "# \"add a shourtcut to drive\"\n",
        "%cd /content/drive/My Drive/GRUPO - 02 - BI Master/Projeto DM"
      ]
    },
    {
      "cell_type": "code",
      "execution_count": null,
      "metadata": {
        "colab": {
          "base_uri": "https://localhost:8080/"
        },
        "id": "zHo8QGcjjyOX",
        "outputId": "1980aaf9-e3c9-4bbd-e223-6602bf6bc5c8"
      },
      "outputs": [
        {
          "output_type": "stream",
          "name": "stdout",
          "text": [
            " Analise_Exploratoria.ipynb\n",
            " BASE_LINE.ipynb\n",
            " Base_Rj_2019_1_FILTER1.csv\n",
            " Base_Rj_2019_1_FULL.csv\n",
            " Base_Rj_2019_1_FULL_V0.csv\n",
            "'Cópia de Projeto_Python_SIH_DG.ipynb'\n",
            "'Eduardo_Colunas 1 a 30.ipynb'\n",
            " Enconde_data_V1.ipynb\n",
            " ENSP_Dissertação_Santos_Andréia_Cristina.pdf\n",
            "'Fontes úteis.gdoc'\n",
            " IT_SIHSUS_1603.pdf\n",
            " Material_para_analisar.ipynb\n",
            "'Minuta do relatório.gdoc'\n",
            " Oversampling.ipynb\n",
            " rj_sih_sus_01_2015.csv\n",
            " tree.png\n",
            " ViniciciusM_feature_clean_SIH_DG.ipynb\n"
          ]
        }
      ],
      "source": [
        "!ls"
      ]
    },
    {
      "cell_type": "code",
      "execution_count": null,
      "metadata": {
        "id": "JBGGiqHDjyia"
      },
      "outputs": [],
      "source": [
        "import pandas as pd\n",
        "df2=pd.read_csv('Base_Rj_2019_1_FILTER1.csv')"
      ]
    },
    {
      "cell_type": "code",
      "execution_count": null,
      "metadata": {
        "colab": {
          "base_uri": "https://localhost:8080/"
        },
        "id": "7YS-zNIlj0De",
        "outputId": "f9f096b9-09f4-44b4-ab4e-04d9b8b26dea"
      },
      "outputs": [
        {
          "output_type": "stream",
          "name": "stdout",
          "text": [
            "<class 'pandas.core.frame.DataFrame'>\n",
            "RangeIndex: 62412 entries, 0 to 62411\n",
            "Data columns (total 36 columns):\n",
            " #   Column        Non-Null Count  Dtype  \n",
            "---  ------        --------------  -----  \n",
            " 0   Unnamed: 0    62412 non-null  int64  \n",
            " 1   Unnamed: 0.1  62412 non-null  int64  \n",
            " 2   SEXO          62412 non-null  int64  \n",
            " 3   UTI_MES_TO    62412 non-null  int64  \n",
            " 4   MARCA_UTI     62412 non-null  int64  \n",
            " 5   US_TOT        62412 non-null  float64\n",
            " 6   DIAG_PRINC    62412 non-null  object \n",
            " 7   IDADE         62412 non-null  int64  \n",
            " 8   DIAS_PERM     62412 non-null  int64  \n",
            " 9   MORTE         62412 non-null  int64  \n",
            " 10  CAR_INT       62412 non-null  int64  \n",
            " 11  NUM_FILHOS    62412 non-null  int64  \n",
            " 12  CONTRACEP1    62412 non-null  int64  \n",
            " 13  CONTRACEP2    62412 non-null  int64  \n",
            " 14  COMPLEX       62412 non-null  int64  \n",
            " 15  RACA_COR      62412 non-null  int64  \n",
            " 16  VAL_SH_FED    62412 non-null  float64\n",
            " 17  VAL_SP_FED    62412 non-null  float64\n",
            " 18  VAL_SH_GES    62412 non-null  float64\n",
            " 19  VAL_SP_GES    62412 non-null  float64\n",
            " 20  VAL_UCI       62412 non-null  float64\n",
            " 21  MARCA_UCI     62412 non-null  int64  \n",
            " 22  DIAGSEC1      11676 non-null  object \n",
            " 23  DIAGSEC2      964 non-null    object \n",
            " 24  DIAGSEC3      408 non-null    object \n",
            " 25  DIAGSEC4      179 non-null    object \n",
            " 26  DIAGSEC5      79 non-null     object \n",
            " 27  DIAGSEC6      35 non-null     object \n",
            " 28  DIAGSEC7      14 non-null     object \n",
            " 29  TPDISEC1      62412 non-null  int64  \n",
            " 30  TPDISEC2      62412 non-null  int64  \n",
            " 31  TPDISEC3      62412 non-null  int64  \n",
            " 32  TPDISEC4      62412 non-null  int64  \n",
            " 33  TPDISEC5      62412 non-null  int64  \n",
            " 34  TPDISEC6      62412 non-null  int64  \n",
            " 35  TPDISEC7      62412 non-null  int64  \n",
            "dtypes: float64(6), int64(22), object(8)\n",
            "memory usage: 17.1+ MB\n"
          ]
        }
      ],
      "source": [
        "df2.info()"
      ]
    },
    {
      "cell_type": "code",
      "execution_count": null,
      "metadata": {
        "id": "QSAilx6fj1Gv"
      },
      "outputs": [],
      "source": [
        "df2=df2.drop(columns=['Unnamed: 0','Unnamed: 0.1','VAL_SH_GES','VAL_SP_GES'])\n",
        "\n",
        "# Convertendo para int as variaveis do tipo object\n",
        "df2['TPDISEC7']=df2['TPDISEC7'].astype(str).astype(int)\n",
        "df2['TPDISEC6']=df2['TPDISEC6'].astype(str).astype(int)\n",
        "df2['TPDISEC5']=df2['TPDISEC5'].astype(str).astype(int)\n",
        "df2['TPDISEC4']=df2['TPDISEC4'].astype(str).astype(int)\n",
        "df2['TPDISEC3']=df2['TPDISEC3'].astype(str).astype(int)\n",
        "df2['TPDISEC2']=df2['TPDISEC2'].astype(str).astype(int)\n",
        "df2['TPDISEC1']=df2['TPDISEC1'].astype(str).astype(int)\n",
        "from sklearn import preprocessing\n",
        "\n",
        "LABEL_ENCODING_DIAG1 = preprocessing.LabelEncoder()\n",
        "LABEL_ENCODING_DIAG2 = preprocessing.LabelEncoder()\n",
        "LABEL_ENCODING_DIAG3 = preprocessing.LabelEncoder()\n",
        "LABEL_ENCODING_DIAG4 = preprocessing.LabelEncoder()\n",
        "LABEL_ENCODING_DIAG5 = preprocessing.LabelEncoder()\n",
        "LABEL_ENCODING_DIAG6 = preprocessing.LabelEncoder()\n",
        "LABEL_ENCODING_DIAG7 = preprocessing.LabelEncoder()\n",
        "\n",
        "df2['DIAGSEC1']=LABEL_ENCODING_DIAG1.fit_transform(df2['DIAGSEC1'])\n",
        "df2['DIAGSEC2']=LABEL_ENCODING_DIAG2.fit_transform(df2['DIAGSEC2'])\n",
        "df2['DIAGSEC3']=LABEL_ENCODING_DIAG3.fit_transform(df2['DIAGSEC3'])\n",
        "df2['DIAGSEC4']=LABEL_ENCODING_DIAG4.fit_transform(df2['DIAGSEC4'])\n",
        "df2['DIAGSEC5']=LABEL_ENCODING_DIAG5.fit_transform(df2['DIAGSEC5'])\n",
        "df2['DIAGSEC6']=LABEL_ENCODING_DIAG6.fit_transform(df2['DIAGSEC6'])\n",
        "df2['DIAGSEC7']=LABEL_ENCODING_DIAG7.fit_transform(df2['DIAGSEC7'])\n",
        "\n",
        "LABEL_ENCODING_DIAG_PRINC = preprocessing.LabelEncoder()\n",
        "df2['DIAG_PRINC']=LABEL_ENCODING_DIAG_PRINC.fit_transform(df2['DIAG_PRINC'])"
      ]
    },
    {
      "cell_type": "code",
      "execution_count": null,
      "metadata": {
        "id": "K2X_OIl-j363"
      },
      "outputs": [],
      "source": [
        "from sklearn.model_selection import train_test_split \n",
        "# Agora usaremos a função para fazer de fato a separação. Já faremos a separação em treino e teste e entrada e saída.\n",
        "X = df2.loc[:,df2.columns != 'MORTE']  # Entrada\n",
        "y = df2.MORTE    # Saída\n",
        "X_train, X_test, y_train, y_test = train_test_split(X, \n",
        "                                                    y, \n",
        "                                                    test_size=0.2, \n",
        "                                                    stratify=y)"
      ]
    },
    {
      "cell_type": "code",
      "execution_count": null,
      "metadata": {
        "colab": {
          "base_uri": "https://localhost:8080/"
        },
        "id": "q4cpHP3NkMke",
        "outputId": "cb9a4505-c786-42f5-802c-c4dcda06052d"
      },
      "outputs": [
        {
          "output_type": "execute_result",
          "data": {
            "text/plain": [
              "4257"
            ]
          },
          "metadata": {},
          "execution_count": 8
        }
      ],
      "source": [
        "y.sum()"
      ]
    },
    {
      "cell_type": "code",
      "execution_count": null,
      "metadata": {
        "id": "NyJQZZkukPlC"
      },
      "outputs": [],
      "source": [
        "MORTOS_NOVOS=y.sum()\n",
        "VIVOS_NOVOS=len(y)-MORTOS_NOVOS"
      ]
    },
    {
      "cell_type": "code",
      "execution_count": null,
      "metadata": {
        "colab": {
          "base_uri": "https://localhost:8080/",
          "height": 336
        },
        "id": "ItrDVockkQ_Q",
        "outputId": "59669cdb-a543-413d-8eb8-fb2de91b022c"
      },
      "outputs": [
        {
          "output_type": "display_data",
          "data": {
            "text/plain": [
              "<Figure size 432x288 with 1 Axes>"
            ],
            "image/png": "[encoded data removed]"
          },
          "metadata": {
            "needs_background": "light"
          }
        }
      ],
      "source": [
        "import matplotlib.pyplot as plt\n",
        "fig = plt.figure()\n",
        "ax = fig.add_axes([0,0,1,1])\n",
        "langs = ['MORTO', 'VIVO']\n",
        "students = [MORTOS_NOVOS,VIVOS_NOVOS]\n",
        "ax.bar(langs,students)\n",
        "plt.show()"
      ]
    },
    {
      "cell_type": "markdown",
      "metadata": {
        "id": "WUdCtijFj9cn"
      },
      "source": [
        "## OverSampling"
      ]
    },
    {
      "cell_type": "code",
      "execution_count": null,
      "metadata": {
        "colab": {
          "base_uri": "https://localhost:8080/"
        },
        "id": "p2DEGnaKj6J5",
        "outputId": "e2f85d8c-ee9d-4d08-ba38-7bd8bc32d333"
      },
      "outputs": [
        {
          "output_type": "stream",
          "name": "stdout",
          "text": [
            "Looking in indexes: https://pypi.org/simple, https://us-python.pkg.dev/colab-wheels/public/simple/\n",
            "Requirement already satisfied: imbalanced-learn in /usr/local/lib/python3.7/dist-packages (0.8.1)\n",
            "Requirement already satisfied: numpy>=1.13.3 in /usr/local/lib/python3.7/dist-packages (from imbalanced-learn) (1.21.6)\n",
            "Requirement already satisfied: joblib>=0.11 in /usr/local/lib/python3.7/dist-packages (from imbalanced-learn) (1.1.0)\n",
            "Requirement already satisfied: scikit-learn>=0.24 in /usr/local/lib/python3.7/dist-packages (from imbalanced-learn) (1.0.2)\n",
            "Requirement already satisfied: scipy>=0.19.1 in /usr/local/lib/python3.7/dist-packages (from imbalanced-learn) (1.4.1)\n",
            "Requirement already satisfied: threadpoolctl>=2.0.0 in /usr/local/lib/python3.7/dist-packages (from scikit-learn>=0.24->imbalanced-learn) (3.1.0)\n"
          ]
        }
      ],
      "source": [
        "!sudo pip install imbalanced-learn"
      ]
    },
    {
      "cell_type": "code",
      "execution_count": null,
      "metadata": {
        "colab": {
          "base_uri": "https://localhost:8080/"
        },
        "id": "YoY-vtMRkAD3",
        "outputId": "5af5edba-7cad-466b-a15d-c3da1ab0e2d8"
      },
      "outputs": [
        {
          "output_type": "stream",
          "name": "stdout",
          "text": [
            "0.8.1\n"
          ]
        }
      ],
      "source": [
        "# check version number\n",
        "import imblearn\n",
        "print(imblearn.__version__)"
      ]
    },
    {
      "cell_type": "code",
      "execution_count": null,
      "metadata": {
        "id": "yErabR2mkCof"
      },
      "outputs": [],
      "source": [
        "from imblearn.over_sampling import RandomOverSampler\n",
        "# Instanciar o random over sampler\n",
        "#   e definir que vamos aumentar até ficar 1 morto para cada 2 vivos\n",
        "oversample = RandomOverSampler(sampling_strategy=0.5)\n",
        "\n",
        "# Aplicar o fit_resample em nossa base de dados\n",
        "X_over, y_over = oversample.fit_resample(X, y)"
      ]
    },
    {
      "cell_type": "code",
      "execution_count": null,
      "metadata": {
        "id": "zCIVYeXVkFEy"
      },
      "outputs": [],
      "source": [
        "# fit and apply the transform\n",
        "X_over, y_over = oversample.fit_resample(X, y)"
      ]
    },
    {
      "cell_type": "code",
      "execution_count": null,
      "metadata": {
        "colab": {
          "base_uri": "https://localhost:8080/"
        },
        "id": "ZJJW6UHIkTxG",
        "outputId": "6a1c8ec5-db34-4daf-d2e2-84657c26fded"
      },
      "outputs": [
        {
          "output_type": "execute_result",
          "data": {
            "text/plain": [
              "29077"
            ]
          },
          "metadata": {},
          "execution_count": 12
        }
      ],
      "source": [
        "y_over.sum()"
      ]
    },
    {
      "cell_type": "code",
      "execution_count": null,
      "metadata": {
        "id": "fVy56aaVkdIA"
      },
      "outputs": [],
      "source": [
        "MORTOS_NOVOS=y_over.sum()\n",
        "VIVOS_NOVOS=len(y_over)-MORTOS_NOVOS"
      ]
    },
    {
      "cell_type": "code",
      "execution_count": null,
      "metadata": {
        "id": "bP5VvbRUkeiv"
      },
      "outputs": [],
      "source": [
        "import matplotlib.pyplot as plt\n",
        "fig = plt.figure()\n",
        "ax = fig.add_axes([0,0,1,1])\n",
        "langs = ['MORTO', 'VIVO']\n",
        "students = [MORTOS_NOVOS,VIVOS_NOVOS]\n",
        "ax.bar(langs,students)\n",
        "plt.show()"
      ]
    },
    {
      "cell_type": "markdown",
      "metadata": {
        "id": "zpGRPEG2kmG0"
      },
      "source": [
        "## New Train Test Division"
      ]
    },
    {
      "cell_type": "code",
      "execution_count": null,
      "metadata": {
        "id": "P22QVygNkgFS"
      },
      "outputs": [],
      "source": [
        "X_train_2, X_test_2, y_train_2, y_test_2 = train_test_split(X_over, \n",
        "                                                    y_over, \n",
        "                                                    test_size=0.2, \n",
        "                                                    stratify=y_over)"
      ]
    },
    {
      "cell_type": "markdown",
      "metadata": {
        "id": "VIwENa4ulzrY"
      },
      "source": [
        "### Decision Tree Classifier"
      ]
    },
    {
      "cell_type": "code",
      "execution_count": null,
      "metadata": {
        "id": "4fNJHtoTnYmx"
      },
      "outputs": [],
      "source": [
        "from sklearn.tree import DecisionTreeClassifier\n",
        "import seaborn as sns"
      ]
    },
    {
      "cell_type": "code",
      "execution_count": null,
      "metadata": {
        "id": "zWQWMsnkkrmn"
      },
      "outputs": [],
      "source": [
        "def train_DTC(X_train, y_train, seed):\n",
        "  model_DTC = DecisionTreeClassifier(random_state=seed) # tente mudar parâmetro para evitar overfitting\n",
        "  model_DTC.fit(X_train_2, y_train_2);\n",
        "  return model_DTC\n",
        "\n",
        "seed=200\n",
        "model_DTC = train_DTC(X_train_2, y_train_2, seed)"
      ]
    },
    {
      "cell_type": "code",
      "execution_count": null,
      "metadata": {
        "colab": {
          "base_uri": "https://localhost:8080/"
        },
        "id": "Gr-gkrvmksIr",
        "outputId": "bb2c0932-524f-401e-f753-27ddc5ac47c9"
      },
      "outputs": [
        {
          "output_type": "execute_result",
          "data": {
            "text/plain": [
              "38"
            ]
          },
          "metadata": {},
          "execution_count": 21
        }
      ],
      "source": [
        "# profundidade da árvore\n",
        "model_DTC.get_depth()"
      ]
    },
    {
      "cell_type": "code",
      "execution_count": null,
      "metadata": {
        "colab": {
          "base_uri": "https://localhost:8080/"
        },
        "id": "1jw7yTUFz4h4",
        "outputId": "456e0fa7-09ee-47fd-dfa9-fdc5bd58791e"
      },
      "outputs": [
        {
          "output_type": "execute_result",
          "data": {
            "text/plain": [
              "DecisionTreeClassifier(random_state=200)"
            ]
          },
          "metadata": {},
          "execution_count": 22
        }
      ],
      "source": [
        "model_DTC"
      ]
    },
    {
      "cell_type": "code",
      "execution_count": null,
      "metadata": {
        "colab": {
          "base_uri": "https://localhost:8080/",
          "height": 248
        },
        "id": "nB92Nw6Mzhur",
        "outputId": "b2e5e822-c2ab-444b-87c7-0545766e7235"
      },
      "outputs": [
        {
          "output_type": "display_data",
          "data": {
            "text/plain": [
              "<Figure size 432x288 with 1 Axes>"
            ],
            "image/png": "[encoded data removed]"
          },
          "metadata": {
            "needs_background": "light"
          }
        }
      ],
      "source": [
        "from sklearn import tree\n",
        "tree.plot_tree(model_DTC)\n",
        "plt.show()"
      ]
    },
    {
      "cell_type": "code",
      "execution_count": null,
      "metadata": {
        "colab": {
          "base_uri": "https://localhost:8080/",
          "height": 712
        },
        "id": "K6tucx9Wk8be",
        "outputId": "36a29a7f-8002-43a5-9be8-871f46f2aa48"
      },
      "outputs": [
        {
          "output_type": "stream",
          "name": "stdout",
          "text": [
            "Resultados de Treino\n",
            "Acurácia:  0.9998996919108691\n",
            "Kappa:  0.9997743205445172\n",
            "F1:  0.9998495561907627\n"
          ]
        },
        {
          "output_type": "display_data",
          "data": {
            "text/plain": [
              "<Figure size 432x288 with 2 Axes>"
            ],
            "image/png": "[encoded data removed]"
          },
          "metadata": {
            "needs_background": "light"
          }
        },
        {
          "output_type": "stream",
          "name": "stdout",
          "text": [
            "Resultados de Teste\n",
            "Acurácia:  0.9692783859689345\n",
            "Kappa:  0.932389459027873\n",
            "F1:  0.9558920342330481\n"
          ]
        },
        {
          "output_type": "display_data",
          "data": {
            "text/plain": [
              "<Figure size 432x288 with 2 Axes>"
            ],
            "image/png": "[encoded data removed]"
          },
          "metadata": {
            "needs_background": "light"
          }
        }
      ],
      "source": [
        "def predict_and_evaluate(model, X_test, y_test):\n",
        "\n",
        "  # inferência do teste\n",
        "  y_pred = model.predict(X_test) \n",
        "\n",
        "  # Acurácia\n",
        "  from sklearn.metrics import accuracy_score\n",
        "  accuracy = accuracy_score(y_test, y_pred)\n",
        "  print('Acurácia: ', accuracy)\n",
        "\n",
        "  # Kappa\n",
        "  from sklearn.metrics import cohen_kappa_score\n",
        "  kappa = cohen_kappa_score(y_test, y_pred)\n",
        "  print('Kappa: ', kappa)\n",
        "\n",
        "  # F1\n",
        "  from sklearn.metrics import f1_score\n",
        "  f1 = f1_score(y_test, y_pred)\n",
        "  print('F1: ', f1)\n",
        "\n",
        "  # Matriz de confusão\n",
        "  from sklearn.metrics import confusion_matrix\n",
        "  confMatrix = confusion_matrix(y_test, y_pred)\n",
        "\n",
        "  ax = plt.subplot()\n",
        "  sns.heatmap(confMatrix, annot=True, fmt=\".0f\")\n",
        "  plt.xlabel('Previsto')\n",
        "  plt.ylabel('Real')\n",
        "  plt.title('Matriz de Confusão')\n",
        "\n",
        "\n",
        "    # Colocar os nomes\n",
        "  ax.xaxis.set_ticklabels(['VIVEU', 'MORREU']) \n",
        "  ax.yaxis.set_ticklabels(['VIVEU', 'MORREU'])\n",
        "  plt.show()\n",
        "\n",
        "  # CHAMANDO A FUNCAO CRIADA EM CIMA\n",
        "\n",
        "print('Resultados de Treino')\n",
        "predict_and_evaluate(model_DTC, X_train_2, y_train_2)\n",
        "print('Resultados de Teste')\n",
        "predict_and_evaluate(model_DTC, X_test_2, y_test_2)"
      ]
    },
    {
      "cell_type": "markdown",
      "metadata": {
        "id": "xm5q8IrPl8ba"
      },
      "source": [
        "### SVM model"
      ]
    },
    {
      "cell_type": "code",
      "execution_count": null,
      "metadata": {
        "id": "G7nEcOMFlBj4"
      },
      "outputs": [],
      "source": [
        "# treinar modelo\n",
        "from sklearn.svm import SVC\n",
        "\n",
        "def train_SVM(X_train, y_train, seed):\n",
        "  model_SVM = SVC(random_state=seed)  # criar o modelo com parametros default\n",
        "  model_SVM.fit(X_train, y_train)     # treino o modelo com parametros default\n",
        "  return model_SVM\n",
        "seed=200\n",
        "model_SVM = train_SVM(X_train_2, y_train_2, seed)"
      ]
    },
    {
      "cell_type": "code",
      "execution_count": null,
      "metadata": {
        "colab": {
          "base_uri": "https://localhost:8080/",
          "height": 712
        },
        "id": "1EL1vCp7mghx",
        "outputId": "67928493-c1d6-43a9-96a5-58492ed80f7f"
      },
      "outputs": [
        {
          "output_type": "stream",
          "name": "stdout",
          "text": [
            "Resultados de Treino\n",
            "Acurácia:  0.7837500895607938\n",
            "Kappa:  0.4750587904627289\n",
            "F1:  0.6200750232874298\n"
          ]
        },
        {
          "output_type": "display_data",
          "data": {
            "text/plain": [
              "<Figure size 432x288 with 2 Axes>"
            ],
            "image/png": "[encoded data removed]"
          },
          "metadata": {
            "needs_background": "light"
          }
        },
        {
          "output_type": "stream",
          "name": "stdout",
          "text": [
            "Resultados de Teste\n",
            "Acurácia:  0.7828853097953803\n",
            "Kappa:  0.47118450327519734\n",
            "F1:  0.6157435585311423\n"
          ]
        },
        {
          "output_type": "display_data",
          "data": {
            "text/plain": [
              "<Figure size 432x288 with 2 Axes>"
            ],
            "image/png": "[encoded data removed]"
          },
          "metadata": {
            "needs_background": "light"
          }
        }
      ],
      "source": [
        "print('Resultados de Treino')\n",
        "predict_and_evaluate(model_SVM, X_train_2, y_train_2)\n",
        "\n",
        "print('Resultados de Teste')\n",
        "predict_and_evaluate(model_SVM, X_test_2, y_test_2)"
      ]
    },
    {
      "cell_type": "markdown",
      "metadata": {
        "id": "Zz64muiOombX"
      },
      "source": [
        "## Random Forest Classifier"
      ]
    },
    {
      "cell_type": "code",
      "execution_count": null,
      "metadata": {
        "id": "yG1poIPepora"
      },
      "outputs": [],
      "source": [
        "# treinar modelo\n",
        "from sklearn.ensemble import RandomForestClassifier\n",
        "\n",
        "def train_RFC(X_train, y_train, seed):\n",
        "  model_RFC = RandomForestClassifier( random_state=seed) # criar o modelo com parametros default\n",
        "  model_RFC.fit(X_train, y_train);                       # treino o modelo com parametros default\n",
        "  return model_RFC\n",
        "\n",
        "model_RFC = train_RFC(X_train_2, y_train_2, seed)"
      ]
    },
    {
      "cell_type": "code",
      "execution_count": null,
      "metadata": {
        "colab": {
          "base_uri": "https://localhost:8080/",
          "height": 712
        },
        "id": "booruKmqqGqZ",
        "outputId": "cd93e77f-bfe2-4f65-84a4-ba939c75f016"
      },
      "outputs": [
        {
          "output_type": "stream",
          "name": "stdout",
          "text": [
            "Resultados de Treino\n",
            "Acurácia:  0.9998996919108691\n",
            "Kappa:  0.9997743205445172\n",
            "F1:  0.9998495561907627\n"
          ]
        },
        {
          "output_type": "display_data",
          "data": {
            "text/plain": [
              "<Figure size 432x288 with 2 Axes>"
            ],
            "image/png": "[encoded data removed]"
          },
          "metadata": {
            "needs_background": "light"
          }
        },
        {
          "output_type": "stream",
          "name": "stdout",
          "text": [
            "Resultados de Teste\n",
            "Acurácia:  0.9840660285435892\n",
            "Kappa:  0.9645457960301247\n",
            "F1:  0.9766229397914564\n"
          ]
        },
        {
          "output_type": "display_data",
          "data": {
            "text/plain": [
              "<Figure size 432x288 with 2 Axes>"
            ],
            "image/png": "[encoded data removed]"
          },
          "metadata": {
            "needs_background": "light"
          }
        }
      ],
      "source": [
        "print('Resultados de Treino')\n",
        "predict_and_evaluate(model_RFC, X_train_2, y_train_2)\n",
        "print('Resultados de Teste')\n",
        "predict_and_evaluate(model_RFC, X_test_2, y_test_2)"
      ]
    },
    {
      "cell_type": "markdown",
      "metadata": {
        "id": "7pHNRJbosqmm"
      },
      "source": [
        "### Normalization of the Train data"
      ]
    },
    {
      "cell_type": "code",
      "execution_count": null,
      "metadata": {
        "colab": {
          "base_uri": "https://localhost:8080/",
          "height": 205
        },
        "id": "gmI27yVPJDRO",
        "outputId": "6002b698-f45c-4849-ce14-654e81ae8764"
      },
      "outputs": [
        {
          "output_type": "execute_result",
          "data": {
            "text/plain": [
              "       SEXO  UTI_MES_TO  MARCA_UTI  US_TOT  DIAG_PRINC  IDADE  DIAS_PERM  \\\n",
              "60481     1           0          0   53.43        3140     31          2   \n",
              "7736      3           0          0  139.30         998     48          2   \n",
              "\n",
              "       CAR_INT  NUM_FILHOS  CONTRACEP1  ...  DIAGSEC5  DIAGSEC6  DIAGSEC7  \\\n",
              "60481        2           0           0  ...        64        28        13   \n",
              "7736         2           0           0  ...        64        28        13   \n",
              "\n",
              "       TPDISEC1  TPDISEC2  TPDISEC3  TPDISEC4  TPDISEC5  TPDISEC6  TPDISEC7  \n",
              "60481         2         0         0         0         0         0         0  \n",
              "7736          2         0         0         0         0         0         0  \n",
              "\n",
              "[2 rows x 31 columns]"
            ],
            "text/html": [
              "\n",
              "  <div id=\"df-d79af08a-18dd-4a97-bf64-8977a37a061c\">\n",
              "    <div class=\"colab-df-container\">\n",
              "      <div>\n",
              "<style scoped>\n",
              "    .dataframe tbody tr th:only-of-type {\n",
              "        vertical-align: middle;\n",
              "    }\n",
              "\n",
              "    .dataframe tbody tr th {\n",
              "        vertical-align: top;\n",
              "    }\n",
              "\n",
              "    .dataframe thead th {\n",
              "        text-align: right;\n",
              "    }\n",
              "</style>\n",
              "<table border=\"1\" class=\"dataframe\">\n",
              "  <thead>\n",
              "    <tr style=\"text-align: right;\">\n",
              "      <th></th>\n",
              "      <th>SEXO</th>\n",
              "      <th>UTI_MES_TO</th>\n",
              "      <th>MARCA_UTI</th>\n",
              "      <th>US_TOT</th>\n",
              "      <th>DIAG_PRINC</th>\n",
              "      <th>IDADE</th>\n",
              "      <th>DIAS_PERM</th>\n",
              "      <th>CAR_INT</th>\n",
              "      <th>NUM_FILHOS</th>\n",
              "      <th>CONTRACEP1</th>\n",
              "      <th>...</th>\n",
              "      <th>DIAGSEC5</th>\n",
              "      <th>DIAGSEC6</th>\n",
              "      <th>DIAGSEC7</th>\n",
              "      <th>TPDISEC1</th>\n",
              "      <th>TPDISEC2</th>\n",
              "      <th>TPDISEC3</th>\n",
              "      <th>TPDISEC4</th>\n",
              "      <th>TPDISEC5</th>\n",
              "      <th>TPDISEC6</th>\n",
              "      <th>TPDISEC7</th>\n",
              "    </tr>\n",
              "  </thead>\n",
              "  <tbody>\n",
              "    <tr>\n",
              "      <th>60481</th>\n",
              "      <td>1</td>\n",
              "      <td>0</td>\n",
              "      <td>0</td>\n",
              "      <td>53.43</td>\n",
              "      <td>3140</td>\n",
              "      <td>31</td>\n",
              "      <td>2</td>\n",
              "      <td>2</td>\n",
              "      <td>0</td>\n",
              "      <td>0</td>\n",
              "      <td>...</td>\n",
              "      <td>64</td>\n",
              "      <td>28</td>\n",
              "      <td>13</td>\n",
              "      <td>2</td>\n",
              "      <td>0</td>\n",
              "      <td>0</td>\n",
              "      <td>0</td>\n",
              "      <td>0</td>\n",
              "      <td>0</td>\n",
              "      <td>0</td>\n",
              "    </tr>\n",
              "    <tr>\n",
              "      <th>7736</th>\n",
              "      <td>3</td>\n",
              "      <td>0</td>\n",
              "      <td>0</td>\n",
              "      <td>139.30</td>\n",
              "      <td>998</td>\n",
              "      <td>48</td>\n",
              "      <td>2</td>\n",
              "      <td>2</td>\n",
              "      <td>0</td>\n",
              "      <td>0</td>\n",
              "      <td>...</td>\n",
              "      <td>64</td>\n",
              "      <td>28</td>\n",
              "      <td>13</td>\n",
              "      <td>2</td>\n",
              "      <td>0</td>\n",
              "      <td>0</td>\n",
              "      <td>0</td>\n",
              "      <td>0</td>\n",
              "      <td>0</td>\n",
              "      <td>0</td>\n",
              "    </tr>\n",
              "  </tbody>\n",
              "</table>\n",
              "<p>2 rows × 31 columns</p>\n",
              "</div>\n",
              "      <button class=\"colab-df-convert\" onclick=\"convertToInteractive('df-d79af08a-18dd-4a97-bf64-8977a37a061c')\"\n",
              "              title=\"Convert this dataframe to an interactive table.\"\n",
              "              style=\"display:none;\">\n",
              "        \n",
              "  <svg xmlns=\"http://www.w3.org/2000/svg\" height=\"24px\"viewBox=\"0 0 24 24\"\n",
              "       width=\"24px\">\n",
              "    <path d=\"M0 0h24v24H0V0z\" fill=\"none\"/>\n",
              "    <path d=\"M18.56 5.44l.94 2.06.94-2.06 2.06-.94-2.06-.94-.94-2.06-.94 2.06-2.06.94zm-11 1L8.5 8.5l.94-2.06 2.06-.94-2.06-.94L8.5 2.5l-.94 2.06-2.06.94zm10 10l.94 2.06.94-2.06 2.06-.94-2.06-.94-.94-2.06-.94 2.06-2.06.94z\"/><path d=\"M17.41 7.96l-1.37-1.37c-.4-.4-.92-.59-1.43-.59-.52 0-1.04.2-1.43.59L10.3 9.45l-7.72 7.72c-.78.78-.78 2.05 0 2.83L4 21.41c.39.39.9.59 1.41.59.51 0 1.02-.2 1.41-.59l7.78-7.78 2.81-2.81c.8-.78.8-2.07 0-2.86zM5.41 20L4 18.59l7.72-7.72 1.47 1.35L5.41 20z\"/>\n",
              "  </svg>\n",
              "      </button>\n",
              "      \n",
              "  <style>\n",
              "    .colab-df-container {\n",
              "      display:flex;\n",
              "      flex-wrap:wrap;\n",
              "      gap: 12px;\n",
              "    }\n",
              "\n",
              "    .colab-df-convert {\n",
              "      background-color: #E8F0FE;\n",
              "      border: none;\n",
              "      border-radius: 50%;\n",
              "      cursor: pointer;\n",
              "      display: none;\n",
              "      fill: #1967D2;\n",
              "      height: 32px;\n",
              "      padding: 0 0 0 0;\n",
              "      width: 32px;\n",
              "    }\n",
              "\n",
              "    .colab-df-convert:hover {\n",
              "      background-color: #E2EBFA;\n",
              "      box-shadow: 0px 1px 2px rgba(60, 64, 67, 0.3), 0px 1px 3px 1px rgba(60, 64, 67, 0.15);\n",
              "      fill: #174EA6;\n",
              "    }\n",
              "\n",
              "    [theme=dark] .colab-df-convert {\n",
              "      background-color: #3B4455;\n",
              "      fill: #D2E3FC;\n",
              "    }\n",
              "\n",
              "    [theme=dark] .colab-df-convert:hover {\n",
              "      background-color: #434B5C;\n",
              "      box-shadow: 0px 1px 3px 1px rgba(0, 0, 0, 0.15);\n",
              "      filter: drop-shadow(0px 1px 2px rgba(0, 0, 0, 0.3));\n",
              "      fill: #FFFFFF;\n",
              "    }\n",
              "  </style>\n",
              "\n",
              "      <script>\n",
              "        const buttonEl =\n",
              "          document.querySelector('#df-d79af08a-18dd-4a97-bf64-8977a37a061c button.colab-df-convert');\n",
              "        buttonEl.style.display =\n",
              "          google.colab.kernel.accessAllowed ? 'block' : 'none';\n",
              "\n",
              "        async function convertToInteractive(key) {\n",
              "          const element = document.querySelector('#df-d79af08a-18dd-4a97-bf64-8977a37a061c');\n",
              "          const dataTable =\n",
              "            await google.colab.kernel.invokeFunction('convertToInteractive',\n",
              "                                                     [key], {});\n",
              "          if (!dataTable) return;\n",
              "\n",
              "          const docLinkHtml = 'Like what you see? Visit the ' +\n",
              "            '<a target=\"_blank\" href=https://colab.research.google.com/notebooks/data_table.ipynb>data table notebook</a>'\n",
              "            + ' to learn more about interactive tables.';\n",
              "          element.innerHTML = '';\n",
              "          dataTable['output_type'] = 'display_data';\n",
              "          await google.colab.output.renderOutput(dataTable, element);\n",
              "          const docLink = document.createElement('div');\n",
              "          docLink.innerHTML = docLinkHtml;\n",
              "          element.appendChild(docLink);\n",
              "        }\n",
              "      </script>\n",
              "    </div>\n",
              "  </div>\n",
              "  "
            ]
          },
          "metadata": {},
          "execution_count": 29
        }
      ],
      "source": [
        "X_train_2.head(2)"
      ]
    },
    {
      "cell_type": "code",
      "execution_count": null,
      "metadata": {
        "id": "C8Uj6ERjrQFQ"
      },
      "outputs": [],
      "source": [
        "from sklearn.preprocessing import StandardScaler\n",
        "scaler = StandardScaler().fit(X_train_2)\n",
        "X_train_2_norm = scaler.transform(X_train_2)\n",
        "X_test_2_norm = scaler.transform(X_test_2)"
      ]
    },
    {
      "cell_type": "code",
      "execution_count": null,
      "metadata": {
        "colab": {
          "base_uri": "https://localhost:8080/"
        },
        "id": "efFtqeREJG9P",
        "outputId": "e28acd68-bf18-4290-95a3-8c477a489c27"
      },
      "outputs": [
        {
          "output_type": "execute_result",
          "data": {
            "text/plain": [
              "array([-1.11261768, -0.20739423, -0.36823954, -0.36657552,  1.63959145,\n",
              "       -0.66825482, -0.49796228,  0.46554888, -0.07533751, -0.07896478,\n",
              "       -0.06307819, -0.24530719, -0.67275289, -0.0793678 , -0.09050855,\n",
              "       -0.04719934, -0.06443272, -0.51902097,  0.1488157 ,  0.0942404 ,\n",
              "        0.06357264,  0.04321418,  0.02773258,  0.02001547,  2.3422918 ,\n",
              "       -0.15288067, -0.09893539, -0.0664143 , -0.04488549, -0.03177785,\n",
              "       -0.02093228])"
            ]
          },
          "metadata": {},
          "execution_count": 31
        }
      ],
      "source": [
        "X_train_2_norm[0][:]"
      ]
    },
    {
      "cell_type": "markdown",
      "metadata": {
        "id": "nWWZ7NletKHQ"
      },
      "source": [
        "## Decision Tree Classifier Normalized"
      ]
    },
    {
      "cell_type": "code",
      "execution_count": null,
      "metadata": {
        "colab": {
          "base_uri": "https://localhost:8080/",
          "height": 801
        },
        "id": "4m1Q1FXdtHeB",
        "outputId": "dae86cec-f32c-4db8-a6a1-8c079a854094"
      },
      "outputs": [
        {
          "output_type": "stream",
          "name": "stdout",
          "text": [
            "Resultados de Treino\n",
            "Acurácia:  0.6666762198180125\n",
            "Kappa:  0.0\n",
            "F1:  0.0\n"
          ]
        },
        {
          "output_type": "stream",
          "name": "stderr",
          "text": [
            "/usr/local/lib/python3.7/dist-packages/sklearn/base.py:451: UserWarning: X does not have valid feature names, but DecisionTreeClassifier was fitted with feature names\n",
            "  \"X does not have valid feature names, but\"\n"
          ]
        },
        {
          "output_type": "display_data",
          "data": {
            "text/plain": [
              "<Figure size 432x288 with 2 Axes>"
            ],
            "image/png": "[encoded data removed]"
          },
          "metadata": {
            "needs_background": "light"
          }
        },
        {
          "output_type": "stream",
          "name": "stdout",
          "text": [
            "Resultados de Teste\n",
            "Acurácia:  0.6666475611853041\n",
            "Kappa:  0.0\n",
            "F1:  0.0\n"
          ]
        },
        {
          "output_type": "stream",
          "name": "stderr",
          "text": [
            "/usr/local/lib/python3.7/dist-packages/sklearn/base.py:451: UserWarning: X does not have valid feature names, but DecisionTreeClassifier was fitted with feature names\n",
            "  \"X does not have valid feature names, but\"\n"
          ]
        },
        {
          "output_type": "display_data",
          "data": {
            "text/plain": [
              "<Figure size 432x288 with 2 Axes>"
            ],
            "image/png": "[encoded data removed]"
          },
          "metadata": {
            "needs_background": "light"
          }
        }
      ],
      "source": [
        "# Treinar e Testar novamente\n",
        "model_DTC = train_DTC(X_train_2_norm, y_train_2, seed)\n",
        "print('Resultados de Treino')\n",
        "predict_and_evaluate(model_DTC, X_train_2_norm, y_train_2)\n",
        "print('Resultados de Teste')\n",
        "predict_and_evaluate(model_DTC, X_test_2_norm, y_test_2)"
      ]
    },
    {
      "cell_type": "markdown",
      "metadata": {
        "id": "_cjLjE8xtdkt"
      },
      "source": [
        "SVM Normalized"
      ]
    },
    {
      "cell_type": "code",
      "execution_count": null,
      "metadata": {
        "colab": {
          "base_uri": "https://localhost:8080/",
          "height": 712
        },
        "id": "g9fkfmvQta97",
        "outputId": "846fb934-9fe9-4d32-abf2-a3bf80553591"
      },
      "outputs": [
        {
          "output_type": "stream",
          "name": "stdout",
          "text": [
            "Resultados de Treino\n",
            "Acurácia:  0.8294762484774665\n",
            "Kappa:  0.6110740886571302\n",
            "F1:  0.7371211451798179\n"
          ]
        },
        {
          "output_type": "display_data",
          "data": {
            "text/plain": [
              "<Figure size 432x288 with 2 Axes>"
            ],
            "image/png": "[encoded data removed]"
          },
          "metadata": {
            "needs_background": "light"
          }
        },
        {
          "output_type": "stream",
          "name": "stdout",
          "text": [
            "Resultados de Teste\n",
            "Acurácia:  0.8280506677365737\n",
            "Kappa:  0.6079690035087527\n",
            "F1:  0.7351227264700688\n"
          ]
        },
        {
          "output_type": "display_data",
          "data": {
            "text/plain": [
              "<Figure size 432x288 with 2 Axes>"
            ],
            "image/png": "[encoded data removed]"
          },
          "metadata": {
            "needs_background": "light"
          }
        }
      ],
      "source": [
        "# Treinar e Testar novamente\n",
        "model_SVM = train_SVM(X_train_2_norm, y_train_2, seed)\n",
        "print('Resultados de Treino')\n",
        "predict_and_evaluate(model_SVM, X_train_2_norm, y_train_2)\n",
        "print('Resultados de Teste')\n",
        "predict_and_evaluate(model_SVM, X_test_2_norm, y_test_2)"
      ]
    },
    {
      "cell_type": "markdown",
      "metadata": {
        "id": "Rb3CsMDGtt2-"
      },
      "source": [
        "## Random Forest Classifier Normalized"
      ]
    },
    {
      "cell_type": "code",
      "execution_count": null,
      "metadata": {
        "colab": {
          "base_uri": "https://localhost:8080/",
          "height": 712
        },
        "id": "FREtLP0Btnuh",
        "outputId": "b53363c7-ce2a-4809-98c2-9c35c8b34bd5"
      },
      "outputs": [
        {
          "output_type": "stream",
          "name": "stdout",
          "text": [
            "Resultados de Treino\n",
            "Acurácia:  0.9998996919108691\n",
            "Kappa:  0.9997743205445172\n",
            "F1:  0.9998495561907627\n"
          ]
        },
        {
          "output_type": "display_data",
          "data": {
            "text/plain": [
              "<Figure size 432x288 with 2 Axes>"
            ],
            "image/png": "[encoded data removed]"
          },
          "metadata": {
            "needs_background": "light"
          }
        },
        {
          "output_type": "stream",
          "name": "stdout",
          "text": [
            "Resultados de Teste\n",
            "Acurácia:  0.9839513956554136\n",
            "Kappa:  0.9642937652845637\n",
            "F1:  0.9764587186816882\n"
          ]
        },
        {
          "output_type": "display_data",
          "data": {
            "text/plain": [
              "<Figure size 432x288 with 2 Axes>"
            ],
            "image/png": "[encoded data removed]"
          },
          "metadata": {
            "needs_background": "light"
          }
        }
      ],
      "source": [
        "# Treinar e Testar novamente\n",
        "model_RFC = train_RFC(X_train_2_norm, y_train_2, seed)\n",
        "print('Resultados de Treino')\n",
        "predict_and_evaluate(model_RFC, X_train_2_norm, y_train_2)\n",
        "print('Resultados de Teste')\n",
        "predict_and_evaluate(model_RFC, X_test_2_norm, y_test_2)"
      ]
    },
    {
      "cell_type": "code",
      "execution_count": 50,
      "metadata": {
        "id": "pOGkGskyt4PZ"
      },
      "outputs": [],
      "source": [
        "from sklearn.model_selection import GridSearchCV\n",
        "\n",
        "# Definir parâmetros a serem utilizados\n",
        "# tuned_parameters = [{'n_estimators': [20, 50, 100, 150, 200, 300, 400, 500],\n",
        "#                      'max_features': [0.1, 0.3, 0.5, 0.7, 0.9, 1.0],\n",
        "#                      'min_samples_leaf': [1, 3, 5, 8, 10]}]\n",
        "\n",
        "from sklearn.model_selection import GridSearchCV\n",
        "\n",
        "#dicionario com os parametros de tunning\n",
        "tuned_parameters = [{'n_estimators': [50, 100, 150, 200],\n",
        "                     'max_depth': [30, 50, 80, 100],\n",
        "                     'criterion':['gini','entropy']}]\n",
        "\n",
        "# Executar o grid search\n",
        "model_RFC_GS = GridSearchCV(RandomForestClassifier( random_state=seed),\\\n",
        "                            tuned_parameters, scoring='f1')\n",
        "model_RFC_GS.fit(X_train_2_norm, y_train_2);"
      ]
    },
    {
      "cell_type": "code",
      "execution_count": 51,
      "metadata": {
        "colab": {
          "base_uri": "https://localhost:8080/"
        },
        "id": "q-Tif1s7wdTT",
        "outputId": "b5e75337-03ee-4189-c264-9e4949b99def"
      },
      "outputs": [
        {
          "output_type": "execute_result",
          "data": {
            "text/plain": [
              "{'criterion': 'gini', 'max_depth': 50, 'n_estimators': 100}"
            ]
          },
          "metadata": {},
          "execution_count": 51
        }
      ],
      "source": [
        "model_RFC_GS.best_params_"
      ]
    },
    {
      "cell_type": "code",
      "execution_count": 47,
      "metadata": {
        "id": "xxrCS7nyw0h_"
      },
      "outputs": [],
      "source": [
        "# treinar o melhor modelo\n",
        "from sklearn.ensemble import RandomForestClassifier\n",
        "\n",
        "def train_RFC_best(X_train, y_train, seed):\n",
        "  model_RFC = RandomForestClassifier( random_state=seed,criterion='gini',\\\n",
        "                                     max_depth= 50, n_estimators= 100) \n",
        "  model_RFC.fit(X_train, y_train);                       # treino o modelo com os melhores parametros\n",
        "  return model_RFC\n",
        "\n",
        "model_RFC_Best = train_RFC_best(X_train_2_norm, y_train_2, seed)"
      ]
    },
    {
      "cell_type": "code",
      "source": [
        "print('Resultados de Treino')\n",
        "predict_and_evaluate(model_RFC_Best, X_train_2_norm, y_train_2)\n",
        "print('Resultados de Teste')\n",
        "predict_and_evaluate(model_RFC_Best, X_test_2_norm, y_test_2)"
      ],
      "metadata": {
        "colab": {
          "base_uri": "https://localhost:8080/",
          "height": 712
        },
        "id": "YdrmxiiYzFzG",
        "outputId": "8058f82a-35dd-4455-9c5d-574569d2555a"
      },
      "execution_count": 48,
      "outputs": [
        {
          "output_type": "stream",
          "name": "stdout",
          "text": [
            "Resultados de Treino\n",
            "Acurácia:  0.9998996919108691\n",
            "Kappa:  0.9997743205445172\n",
            "F1:  0.9998495561907627\n"
          ]
        },
        {
          "output_type": "display_data",
          "data": {
            "text/plain": [
              "<Figure size 432x288 with 2 Axes>"
            ],
            "image/png": "[encoded data removed]"
          },
          "metadata": {
            "needs_background": "light"
          }
        },
        {
          "output_type": "stream",
          "name": "stdout",
          "text": [
            "Resultados de Teste\n",
            "Acurácia:  0.9839513956554136\n",
            "Kappa:  0.9642937652845637\n",
            "F1:  0.9764587186816882\n"
          ]
        },
        {
          "output_type": "display_data",
          "data": {
            "text/plain": [
              "<Figure size 432x288 with 2 Axes>"
            ],
            "image/png": "[encoded data removed]"
          },
          "metadata": {
            "needs_background": "light"
          }
        }
      ]
    },
    {
      "cell_type": "code",
      "source": [
        ""
      ],
      "metadata": {
        "id": "STg66A3SzPqd"
      },
      "execution_count": null,
      "outputs": []
    }
  ],
  "metadata": {
    "colab": {
      "collapsed_sections": [],
      "name": "Oversampling.ipynb",
      "provenance": [],
      "include_colab_link": true
    },
    "kernelspec": {
      "display_name": "Python 3",
      "name": "python3"
    },
    "language_info": {
      "name": "python"
    }
  },
  "nbformat": 4,
  "nbformat_minor": 0
}